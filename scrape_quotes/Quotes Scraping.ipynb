{
 "cells": [
  {
   "cell_type": "code",
   "execution_count": 67,
   "metadata": {},
   "outputs": [],
   "source": [
    "import requests\n",
    "from bs4 import BeautifulSoup as bs\n",
    "import json"
   ]
  },
  {
   "cell_type": "code",
   "execution_count": 73,
   "metadata": {},
   "outputs": [
    {
     "name": "stdout",
     "output_type": "stream",
     "text": [
      "\n",
      "Showing 1-30 of 2,452\n",
      "\n",
      "2452\n",
      "30\n",
      "fetching https://www.goodreads.com/quotes/tag/food?page=1\n",
      "fetching https://www.goodreads.com/quotes/tag/food?page=11\n",
      "fetching https://www.goodreads.com/quotes/tag/food?page=21\n",
      "fetching https://www.goodreads.com/quotes/tag/food?page=31\n",
      "fetching https://www.goodreads.com/quotes/tag/food?page=41\n",
      "fetching https://www.goodreads.com/quotes/tag/food?page=51\n",
      "fetching https://www.goodreads.com/quotes/tag/food?page=61\n",
      "fetching https://www.goodreads.com/quotes/tag/food?page=71\n",
      "fetching https://www.goodreads.com/quotes/tag/food?page=81\n"
     ]
    }
   ],
   "source": [
    "URL = 'https://www.goodreads.com/quotes/tag/food'\n",
    "page = requests.get(URL)\n",
    "content = page.content\n",
    "\n",
    "soup = bs(content, 'html.parser')\n",
    "\n",
    "totalHTML = soup.find_all('span', class_='smallText')[0].text\n",
    "print(totalHTML)\n",
    "\n",
    "total = int(''.join([letter for letter in totalHTML.split(' ')[-1] if letter.isdigit()]))\n",
    "\n",
    "print(total)\n",
    "currPageCount =  int(''.join([letter for letter in totalHTML.split(' ')[-3].split('-')[1] if letter.isdigit()]))\n",
    "print(currPageCount)\n",
    "\n",
    "counter =  int(total/currPageCount)\n",
    "\n",
    "quotes = soup.find_all('div', class_='quoteText');\n",
    "\n",
    "      \n",
    "#       .text.strip().split('-'))\n",
    "\n",
    "allQuotes = []\n",
    "singleQuote = {}\n",
    "\n",
    "for pageCount in range(0,counter):\n",
    "    actualPage = pageCount + 1;\n",
    "    pageURL = f'{URL}?page={actualPage}'\n",
    "    if pageCount % 10 == 0:\n",
    "        print(f'fetching {pageURL}')\n",
    "    if pageCount == 0:\n",
    "        pageContent = soup\n",
    "    else:\n",
    "        page =  requests.get(pageURL)\n",
    "        pageContent = bs(page.content, 'html.parser')\n",
    "    quotes = pageContent.find_all('div', class_='quoteText');\n",
    "    for quote in quotes:\n",
    "        [text, author] = quote.text.strip().translate({ord('\\n'): None, ord('“'): None, ord('”'): None}).split('―')\n",
    "        allQuotes.append({\"quote\":text.lstrip().rstrip(), \"author\": author.lstrip().rstrip() })\n",
    "\n"
   ]
  },
  {
   "cell_type": "code",
   "execution_count": 74,
   "metadata": {},
   "outputs": [
    {
     "name": "stdout",
     "output_type": "stream",
     "text": [
      "2430\n"
     ]
    }
   ],
   "source": [
    "print(len(allQuotes))\n",
    "\n",
    "jsonOutput = json.dumps(allQuotes)\n",
    "\n",
    "jsonFile = open('./quotes.json','w')\n",
    "jsonFile.write(jsonOutput)\n",
    "jsonFile.close()"
   ]
  },
  {
   "cell_type": "code",
   "execution_count": null,
   "metadata": {},
   "outputs": [],
   "source": []
  }
 ],
 "metadata": {
  "kernelspec": {
   "display_name": "Python 3",
   "language": "python",
   "name": "python3"
  },
  "language_info": {
   "codemirror_mode": {
    "name": "ipython",
    "version": 3
   },
   "file_extension": ".py",
   "mimetype": "text/x-python",
   "name": "python",
   "nbconvert_exporter": "python",
   "pygments_lexer": "ipython3",
   "version": "3.7.3"
  }
 },
 "nbformat": 4,
 "nbformat_minor": 4
}
